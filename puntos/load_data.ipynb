{
 "cells": [
  {
   "cell_type": "code",
   "execution_count": 23,
   "id": "23ee37bb",
   "metadata": {},
   "outputs": [
    {
     "data": {
      "text/plain": [
       "WindowsPath('C:/Users/EXNOsjulio/Documents/Practica-1')"
      ]
     },
     "execution_count": 23,
     "metadata": {},
     "output_type": "execute_result"
    }
   ],
   "source": [
    "import pandas as pd\n",
    "import pathlib\n",
    "\n",
    "BASE_DIR = pathlib.Path.cwd().parent.resolve()\n",
    "BASE_DIR"
   ]
  },
  {
   "cell_type": "code",
   "execution_count": 24,
   "id": "746f5311",
   "metadata": {},
   "outputs": [],
   "source": [
    "from pathlib import Path\n",
    "\n",
    "def export_corpus(df, base_dir, corpus_falso_list, corpus_verdadero_list, write_txt=False):\n",
    "    base_dir.mkdir(parents=True, exist_ok=True)\n",
    "    # CSV (mantener)\n",
    "    df[~df['label']].to_csv(base_dir / 'falso_corpus.csv', index=False)\n",
    "    df[df['label']].to_csv(base_dir / 'verdadero_corpus.csv', index=False)\n",
    "\n",
    "    if write_txt:\n",
    "        with open(base_dir / 'falso_corpus.txt', 'w', encoding='utf-8') as f:\n",
    "            for x in corpus_falso_list:\n",
    "                f.write(x.replace('\\n', ' ') + '\\n')\n",
    "        with open(base_dir / 'verdadero_corpus.txt', 'w', encoding='utf-8') as f:\n",
    "            for x in corpus_verdadero_list:\n",
    "                f.write(x.replace('\\n', ' ') + '\\n')"
   ]
  },
  {
   "cell_type": "code",
   "execution_count": 25,
   "id": "0f65519a",
   "metadata": {},
   "outputs": [],
   "source": [
    "corpus_falso: list[str] = []\n",
    "corpus_verdadero: list[str] = []"
   ]
  },
  {
   "cell_type": "markdown",
   "id": "f4c2fd41",
   "metadata": {},
   "source": [
    "# DF1\n",
    "https://www.kaggle.com/datasets/arseniitretiakov/noticias-falsas-en-espaol/"
   ]
  },
  {
   "cell_type": "code",
   "execution_count": 26,
   "id": "fd0ea812",
   "metadata": {},
   "outputs": [
    {
     "name": "stdout",
     "output_type": "stream",
     "text": [
      "Noticias falsas: 1000, Noticias verdaderas: 1000\n"
     ]
    }
   ],
   "source": [
    "onlyfakes100 = pd.read_csv(BASE_DIR / 'data/raw_corpus/onlyfakes1000.csv')\n",
    "onlytrue100 = pd.read_csv(BASE_DIR / 'data/raw_corpus/onlytrue1000.csv')\n",
    "corpus_falso.extend(onlyfakes100['text'].tolist())\n",
    "corpus_verdadero.extend(onlytrue100['text'].tolist())\n",
    "print(f\"Noticias falsas: {len(corpus_falso)}, Noticias verdaderas: {len(corpus_verdadero)}\")"
   ]
  },
  {
   "cell_type": "markdown",
   "id": "f8e042f8",
   "metadata": {},
   "source": [
    "# DF2\n",
    "https://www.kaggle.com/datasets/zulanac/fake-and-real-news"
   ]
  },
  {
   "cell_type": "code",
   "execution_count": 27,
   "id": "595171bc",
   "metadata": {},
   "outputs": [
    {
     "name": "stdout",
     "output_type": "stream",
     "text": [
      "Noticias falsas: 1233, Noticias verdaderas: 1305\n"
     ]
    }
   ],
   "source": [
    "spanishFakeNews = pd.read_csv(BASE_DIR / 'data/raw_corpus/spanishFakeNews.csv')\n",
    "corpus_falso.extend(spanishFakeNews[spanishFakeNews['clase'] == 'fake']['texto'].tolist())\n",
    "corpus_verdadero.extend(spanishFakeNews[spanishFakeNews['clase'] == 'real']['texto'].tolist())\n",
    "print(f\"Noticias falsas: {len(corpus_falso)}, Noticias verdaderas: {len(corpus_verdadero)}\")"
   ]
  },
  {
   "cell_type": "code",
   "execution_count": 28,
   "id": "a3bb1b3a",
   "metadata": {},
   "outputs": [
    {
     "name": "stdout",
     "output_type": "stream",
     "text": [
      "Noticias falsas: 1259, Noticias verdaderas: 1339\n"
     ]
    }
   ],
   "source": [
    "spanishFakeNews2 = pd.read_csv(BASE_DIR / 'data/raw_corpus/testSpanishFakeNews.csv')\n",
    "corpus_falso.extend(spanishFakeNews2[spanishFakeNews2['clase'] == 'fake']['texto'].tolist())\n",
    "corpus_verdadero.extend(spanishFakeNews2[spanishFakeNews2['clase'] == 'real']['texto'].tolist())\n",
    "print(f\"Noticias falsas: {len(corpus_falso)}, Noticias verdaderas: {len(corpus_verdadero)}\")"
   ]
  },
  {
   "cell_type": "markdown",
   "id": "a5e6731c",
   "metadata": {},
   "source": [
    "# DF3\n",
    "https://huggingface.co/datasets/mariagrandury/fake_news_corpus_spanish"
   ]
  },
  {
   "cell_type": "code",
   "execution_count": 29,
   "id": "2320e16f",
   "metadata": {},
   "outputs": [
    {
     "name": "stdout",
     "output_type": "stream",
     "text": [
      "(572, 7)\n",
      "Noticias falsas: 1545, Noticias verdaderas: 1625\n"
     ]
    }
   ],
   "source": [
    "fake_news_corpus_spanish = pd.read_csv(BASE_DIR / 'data/raw_corpus/fake_news_corpus.csv')\n",
    "print(fake_news_corpus_spanish.shape)\n",
    "corpus_falso.extend(fake_news_corpus_spanish[~fake_news_corpus_spanish['CATEGORY']]['TEXT'].tolist())\n",
    "corpus_verdadero.extend(fake_news_corpus_spanish[fake_news_corpus_spanish['CATEGORY']]['TEXT'].tolist())\n",
    "print(f\"Noticias falsas: {len(corpus_falso)}, Noticias verdaderas: {len(corpus_verdadero)}\")"
   ]
  },
  {
   "cell_type": "markdown",
   "id": "435b2d49",
   "metadata": {},
   "source": [
    "# DF4\n",
    "https://huggingface.co/datasets/sayalaruano/FakeNewsSpanish_Kaggle1"
   ]
  },
  {
   "cell_type": "code",
   "execution_count": 30,
   "id": "87abdd89",
   "metadata": {},
   "outputs": [],
   "source": [
    "FakeNewsSpanish_Kaggle1 = pd.read_csv(BASE_DIR / 'data/raw_corpus/FakeNewsSpanish_Kaggle1.csv')\n",
    "FakeNewsSpanish_Kaggle2 = pd.read_csv(BASE_DIR / 'data/raw_corpus/FakeNewsSpanish_Kaggle2.csv')\n",
    "corpus_falso.extend(FakeNewsSpanish_Kaggle1[FakeNewsSpanish_Kaggle1['label'] == 1]['text'].tolist())\n",
    "corpus_verdadero.extend(FakeNewsSpanish_Kaggle1[FakeNewsSpanish_Kaggle1['label'] == 0]['text'].tolist())"
   ]
  },
  {
   "cell_type": "code",
   "execution_count": 31,
   "id": "d044e047",
   "metadata": {},
   "outputs": [
    {
     "data": {
      "text/html": [
       "<div>\n",
       "<style scoped>\n",
       "    .dataframe tbody tr th:only-of-type {\n",
       "        vertical-align: middle;\n",
       "    }\n",
       "\n",
       "    .dataframe tbody tr th {\n",
       "        vertical-align: top;\n",
       "    }\n",
       "\n",
       "    .dataframe thead th {\n",
       "        text-align: right;\n",
       "    }\n",
       "</style>\n",
       "<table border=\"1\" class=\"dataframe\">\n",
       "  <thead>\n",
       "    <tr style=\"text-align: right;\">\n",
       "      <th></th>\n",
       "      <th>title</th>\n",
       "      <th>text</th>\n",
       "      <th>label</th>\n",
       "    </tr>\n",
       "  </thead>\n",
       "  <tbody>\n",
       "    <tr>\n",
       "      <th>0</th>\n",
       "      <td>NaN</td>\n",
       "      <td>El suceso ha tenido lugar en Brasil. Un adole...</td>\n",
       "      <td>1</td>\n",
       "    </tr>\n",
       "    <tr>\n",
       "      <th>1</th>\n",
       "      <td>\"La quimioterapia mata a la gente y no al cánc...</td>\n",
       "      <td>Estamos en la semana decisiva. Los expertos a...</td>\n",
       "      <td>1</td>\n",
       "    </tr>\n",
       "    <tr>\n",
       "      <th>2</th>\n",
       "      <td>Los Cubos De Caldo Para Cocinar Son Veneno Par...</td>\n",
       "      <td>Estudios científicos hay muchos. Unos nos int...</td>\n",
       "      <td>1</td>\n",
       "    </tr>\n",
       "    <tr>\n",
       "      <th>3</th>\n",
       "      <td>MEGATERREMOTO EN LOS PRÓXIMOS DÍAS ALINEACIÓN ...</td>\n",
       "      <td>Ha sucedido en la ciudad de San José de Río P...</td>\n",
       "      <td>1</td>\n",
       "    </tr>\n",
       "    <tr>\n",
       "      <th>4</th>\n",
       "      <td>¡Qué injusticia! El perro que defendió su casa...</td>\n",
       "      <td>La fiesta en Sevilla por el vuelco electoral ...</td>\n",
       "      <td>1</td>\n",
       "    </tr>\n",
       "    <tr>\n",
       "      <th>...</th>\n",
       "      <td>...</td>\n",
       "      <td>...</td>\n",
       "      <td>...</td>\n",
       "    </tr>\n",
       "    <tr>\n",
       "      <th>1595</th>\n",
       "      <td>El 81% de las familias españolas prefieren los...</td>\n",
       "      <td>Recuperamos la historia de Aleixandra, la jove...</td>\n",
       "      <td>0</td>\n",
       "    </tr>\n",
       "    <tr>\n",
       "      <th>1596</th>\n",
       "      <td>AEGC denuncia una frontera desprotegida por fa...</td>\n",
       "      <td>Reproches, tensión y sinceridad: la comida en ...</td>\n",
       "      <td>0</td>\n",
       "    </tr>\n",
       "    <tr>\n",
       "      <th>1597</th>\n",
       "      <td>Huawei fía su supervivencia a la innovación</td>\n",
       "      <td>RT @ElMundoOpinion: \"PSOE, PP, Ciudadanos y Vo...</td>\n",
       "      <td>0</td>\n",
       "    </tr>\n",
       "    <tr>\n",
       "      <th>1598</th>\n",
       "      <td>La Marina marroquí intercepta a 247 emigrantes...</td>\n",
       "      <td>Rusia cita al embajador español por unas decla...</td>\n",
       "      <td>0</td>\n",
       "    </tr>\n",
       "    <tr>\n",
       "      <th>1599</th>\n",
       "      <td>Un joven marroquí ataca a una mujer en Caspe y...</td>\n",
       "      <td>Saeed Malekpour fue detenido en 2008, cuando v...</td>\n",
       "      <td>0</td>\n",
       "    </tr>\n",
       "  </tbody>\n",
       "</table>\n",
       "<p>1600 rows × 3 columns</p>\n",
       "</div>"
      ],
      "text/plain": [
       "                                                  title  \\\n",
       "0                                                   NaN   \n",
       "1     \"La quimioterapia mata a la gente y no al cánc...   \n",
       "2     Los Cubos De Caldo Para Cocinar Son Veneno Par...   \n",
       "3     MEGATERREMOTO EN LOS PRÓXIMOS DÍAS ALINEACIÓN ...   \n",
       "4     ¡Qué injusticia! El perro que defendió su casa...   \n",
       "...                                                 ...   \n",
       "1595  El 81% de las familias españolas prefieren los...   \n",
       "1596  AEGC denuncia una frontera desprotegida por fa...   \n",
       "1597        Huawei fía su supervivencia a la innovación   \n",
       "1598  La Marina marroquí intercepta a 247 emigrantes...   \n",
       "1599  Un joven marroquí ataca a una mujer en Caspe y...   \n",
       "\n",
       "                                                   text  label  \n",
       "0      El suceso ha tenido lugar en Brasil. Un adole...      1  \n",
       "1      Estamos en la semana decisiva. Los expertos a...      1  \n",
       "2      Estudios científicos hay muchos. Unos nos int...      1  \n",
       "3      Ha sucedido en la ciudad de San José de Río P...      1  \n",
       "4      La fiesta en Sevilla por el vuelco electoral ...      1  \n",
       "...                                                 ...    ...  \n",
       "1595  Recuperamos la historia de Aleixandra, la jove...      0  \n",
       "1596  Reproches, tensión y sinceridad: la comida en ...      0  \n",
       "1597  RT @ElMundoOpinion: \"PSOE, PP, Ciudadanos y Vo...      0  \n",
       "1598  Rusia cita al embajador español por unas decla...      0  \n",
       "1599  Saeed Malekpour fue detenido en 2008, cuando v...      0  \n",
       "\n",
       "[1600 rows x 3 columns]"
      ]
     },
     "execution_count": 31,
     "metadata": {},
     "output_type": "execute_result"
    }
   ],
   "source": [
    "FakeNewsSpanish_Kaggle1"
   ]
  },
  {
   "cell_type": "markdown",
   "id": "1ebf59bf",
   "metadata": {},
   "source": [
    "# DF5\n",
    "https://huggingface.co/datasets/sayalaruano/FakeNewsSpanish_Kaggle2"
   ]
  },
  {
   "cell_type": "code",
   "execution_count": 32,
   "id": "63086999",
   "metadata": {},
   "outputs": [],
   "source": [
    "df5_1 = pd.read_csv(BASE_DIR / 'data/raw_corpus/df5_1.csv')\n",
    "df5_2 = pd.read_csv(BASE_DIR / 'data/raw_corpus/df5_2.csv')\n",
    "\n",
    "corpus_verdadero.extend(df5_1[df5_1['clase'] == 'real']['texto'].tolist())\n",
    "corpus_falso.extend(df5_1[df5_1['clase'] == 'fake']['texto'].tolist())\n",
    "\n",
    "corpus_verdadero.extend(df5_2[df5_2['clase'] == 'real']['texto'].tolist())\n",
    "corpus_falso.extend(df5_2[df5_2['clase'] == 'fake']['texto'].tolist())"
   ]
  },
  {
   "cell_type": "code",
   "execution_count": 33,
   "id": "c0a146be",
   "metadata": {},
   "outputs": [
    {
     "data": {
      "text/plain": [
       "(2764, 2604)"
      ]
     },
     "execution_count": 33,
     "metadata": {},
     "output_type": "execute_result"
    }
   ],
   "source": [
    "len(corpus_verdadero), len(corpus_falso)"
   ]
  },
  {
   "cell_type": "code",
   "execution_count": 34,
   "id": "dfc02eb2",
   "metadata": {},
   "outputs": [
    {
     "data": {
      "text/html": [
       "<div>\n",
       "<style scoped>\n",
       "    .dataframe tbody tr th:only-of-type {\n",
       "        vertical-align: middle;\n",
       "    }\n",
       "\n",
       "    .dataframe tbody tr th {\n",
       "        vertical-align: top;\n",
       "    }\n",
       "\n",
       "    .dataframe thead th {\n",
       "        text-align: right;\n",
       "    }\n",
       "</style>\n",
       "<table border=\"1\" class=\"dataframe\">\n",
       "  <thead>\n",
       "    <tr style=\"text-align: right;\">\n",
       "      <th></th>\n",
       "      <th>text</th>\n",
       "      <th>label</th>\n",
       "    </tr>\n",
       "  </thead>\n",
       "  <tbody>\n",
       "    <tr>\n",
       "      <th>0</th>\n",
       "      <td>Algunas de las voces extremistas más conocida...</td>\n",
       "      <td>True</td>\n",
       "    </tr>\n",
       "    <tr>\n",
       "      <th>1</th>\n",
       "      <td>Después de casi dos años y medio de luchas po...</td>\n",
       "      <td>True</td>\n",
       "    </tr>\n",
       "    <tr>\n",
       "      <th>2</th>\n",
       "      <td>Dos periodistas birmanos de la agencia Reuter...</td>\n",
       "      <td>True</td>\n",
       "    </tr>\n",
       "    <tr>\n",
       "      <th>3</th>\n",
       "      <td>El Cuerpo Nacional de Policía ha detenido a c...</td>\n",
       "      <td>True</td>\n",
       "    </tr>\n",
       "    <tr>\n",
       "      <th>4</th>\n",
       "      <td>El desfile de la firma en Roma se convierte e...</td>\n",
       "      <td>True</td>\n",
       "    </tr>\n",
       "    <tr>\n",
       "      <th>...</th>\n",
       "      <td>...</td>\n",
       "      <td>...</td>\n",
       "    </tr>\n",
       "    <tr>\n",
       "      <th>5363</th>\n",
       "      <td>Manuela Carmena pide a los madrileños que guar...</td>\n",
       "      <td>False</td>\n",
       "    </tr>\n",
       "    <tr>\n",
       "      <th>5364</th>\n",
       "      <td>A solo unas horas de dejar el poder, el expres...</td>\n",
       "      <td>False</td>\n",
       "    </tr>\n",
       "    <tr>\n",
       "      <th>5365</th>\n",
       "      <td>Hartos de ser señalados como unos eternos segu...</td>\n",
       "      <td>False</td>\n",
       "    </tr>\n",
       "    <tr>\n",
       "      <th>5366</th>\n",
       "      <td>Multan a un ultrasur por lanzar a un jugador d...</td>\n",
       "      <td>False</td>\n",
       "    </tr>\n",
       "    <tr>\n",
       "      <th>5367</th>\n",
       "      <td>Diez reglas básicas para que tu casa cumpla lo...</td>\n",
       "      <td>False</td>\n",
       "    </tr>\n",
       "  </tbody>\n",
       "</table>\n",
       "<p>5368 rows × 2 columns</p>\n",
       "</div>"
      ],
      "text/plain": [
       "                                                   text  label\n",
       "0      Algunas de las voces extremistas más conocida...   True\n",
       "1      Después de casi dos años y medio de luchas po...   True\n",
       "2      Dos periodistas birmanos de la agencia Reuter...   True\n",
       "3      El Cuerpo Nacional de Policía ha detenido a c...   True\n",
       "4      El desfile de la firma en Roma se convierte e...   True\n",
       "...                                                 ...    ...\n",
       "5363  Manuela Carmena pide a los madrileños que guar...  False\n",
       "5364  A solo unas horas de dejar el poder, el expres...  False\n",
       "5365  Hartos de ser señalados como unos eternos segu...  False\n",
       "5366  Multan a un ultrasur por lanzar a un jugador d...  False\n",
       "5367  Diez reglas básicas para que tu casa cumpla lo...  False\n",
       "\n",
       "[5368 rows x 2 columns]"
      ]
     },
     "execution_count": 34,
     "metadata": {},
     "output_type": "execute_result"
    }
   ],
   "source": [
    "corpus_df = pd.DataFrame({\n",
    "    'text': corpus_verdadero + corpus_falso,\n",
    "    'label': [True] * len(corpus_verdadero) + [False] * len(corpus_falso)\n",
    "})\n",
    "corpus_df"
   ]
  },
  {
   "cell_type": "code",
   "execution_count": 35,
   "id": "145a3200",
   "metadata": {},
   "outputs": [
    {
     "data": {
      "image/png": "[encoded data removed]",
      "text/plain": [
       "<Figure size 640x480 with 1 Axes>"
      ]
     },
     "metadata": {},
     "output_type": "display_data"
    }
   ],
   "source": [
    "corpus_df['label'].value_counts().plot(kind='bar');"
   ]
  },
  {
   "cell_type": "code",
   "execution_count": 36,
   "id": "bd4e3a47",
   "metadata": {},
   "outputs": [],
   "source": [
    "corpus_df.to_csv(BASE_DIR / 'data/raw_corpus/corpus_merged.csv', index=False)\n",
    "corpus_df[~corpus_df['label']].to_csv(BASE_DIR / 'data/raw_corpus/falso_corpus.csv', index=False)\n",
    "corpus_df[corpus_df['label']].to_csv(BASE_DIR / 'data/raw_corpus/verdadero_corpus.csv', index=False)"
   ]
  },
  {
   "cell_type": "code",
   "execution_count": 37,
   "id": "c99b7fa4",
   "metadata": {},
   "outputs": [],
   "source": [
    "with open(BASE_DIR / 'data/raw_corpus/falso_corpus.txt', 'w', encoding='utf-8') as f:\n",
    "    for noticia in corpus_falso:\n",
    "        f.write(noticia.replace('\\n', ' ') + '\\n')\n",
    "with open(BASE_DIR / 'data/raw_corpus/verdadero_corpus.txt', 'w', encoding='utf-8') as f:\n",
    "    for noticia in corpus_verdadero:\n",
    "        f.write(noticia.replace('\\n', ' ') + '\\n')"
   ]
  }
 ],
 "metadata": {
  "kernelspec": {
   "display_name": "Python 3",
   "language": "python",
   "name": "python3"
  },
  "language_info": {
   "codemirror_mode": {
    "name": "ipython",
    "version": 3
   },
   "file_extension": ".py",
   "mimetype": "text/x-python",
   "name": "python",
   "nbconvert_exporter": "python",
   "pygments_lexer": "ipython3",
   "version": "3.9.13"
  }
 },
 "nbformat": 4,
 "nbformat_minor": 5
}
