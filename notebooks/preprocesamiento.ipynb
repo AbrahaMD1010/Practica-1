{
 "cells": [
  {
   "cell_type": "code",
   "execution_count": 2,
   "id": "4798a1c2",
   "metadata": {},
   "outputs": [
    {
     "data": {
      "text/plain": [
       "WindowsPath('C:/Users/ABRAHAM/Documents/GitHub/Practica-1')"
      ]
     },
     "execution_count": 2,
     "metadata": {},
     "output_type": "execute_result"
    }
   ],
   "source": [
    "import pandas as pd\n",
    "import unicodedata\n",
    "import re\n",
    "import html\n",
    "import string\n",
    "import pathlib\n",
    "\n",
    "BASE_DIR = pathlib.Path.cwd().parent.resolve()\n",
    "BASE_DIR"
   ]
  },
  {
   "cell_type": "code",
   "execution_count": 3,
   "id": "14abf817",
   "metadata": {},
   "outputs": [],
   "source": [
    "def minusculas(texto: str) -> str:\n",
    "    return texto.lower()\n",
    "\n",
    "def eliminar_tildes(texto: str) -> str:\n",
    "    normalized = unicodedata.normalize('NFD', texto)\n",
    "    return ''.join([c for c in normalized if unicodedata.category(c) != 'Mn'])\n",
    "\n",
    "def eliminar_numeros(texto: str) -> str:\n",
    "    return re.sub(r'\\d+', '', texto)\n",
    "\n",
    "def eliminar_enlaces(texto: str) -> str:\n",
    "    pattern = r\"\\b(?:https?://|www\\.)\\S+\\b|\\b(?:[A-Za-z0-9-]+\\.)+[A-Za-z]{2,}(?:/\\S*)?\"\n",
    "    return re.sub(pattern, \"\", texto, flags=re.IGNORECASE)\n",
    "\n",
    "# ejecuta de ultimo\n",
    "def eliminar_salto_linea(texto: str) -> str:\n",
    "    # reemplaza CR/LF/tabs por un espacio y colapsa múltiples espacios\n",
    "    texto = re.sub(r'[\\r\\n\\t]+', ' ', texto)\n",
    "    texto = re.sub(r'\\s{2,}', ' ', texto).strip()\n",
    "    return texto\n",
    "\n",
    "def eliminar_html(texto: str) -> str:\n",
    "    # Desescapa entidades HTML (ej. &nbsp; -> espacio)\n",
    "    texto = html.unescape(texto)\n",
    "    # Elimina etiquetas HTML\n",
    "    texto = re.sub(r'<[^>]+>', '', texto)\n",
    "    return texto.strip()\n",
    "\n",
    "def eliminar_signos_puntuacion(texto: str) -> str:\n",
    "    return texto.translate(str.maketrans('', '', string.punctuation))\n",
    "\n",
    "def eliminar_emoticones(texto: str) -> str:\n",
    "    # Patrón para emoticones textuales comunes\n",
    "    emoticon_pattern = r'[:;][\\-]?[\\)\\(DPOp]'\n",
    "    # Patrón para emojis (rangos Unicode comunes)\n",
    "    emoji_pattern = r'[\\U0001F600-\\U0001F64F\\U0001F300-\\U0001F5FF\\U0001F680-\\U0001F6FF\\U0001F1E0-\\U0001F1FF]'\n",
    "    # Combina y elimina\n",
    "    combined_pattern = f'({emoticon_pattern}|{emoji_pattern})'\n",
    "    return re.sub(combined_pattern, '', texto)\n",
    "\n",
    "def preprocesar_texto(texto: str) -> str:\n",
    "    texto = minusculas(texto)\n",
    "    texto = eliminar_tildes(texto)\n",
    "    texto = eliminar_numeros(texto)\n",
    "    texto = eliminar_enlaces(texto)\n",
    "    texto = eliminar_html(texto)\n",
    "    texto = eliminar_signos_puntuacion(texto)\n",
    "    texto = eliminar_emoticones(texto)\n",
    "    texto = eliminar_salto_linea(texto)  # Último\n",
    "    return texto"
   ]
  },
  {
   "cell_type": "code",
   "execution_count": 6,
   "id": "81accae3",
   "metadata": {},
   "outputs": [
    {
     "data": {
      "text/html": [
       "<div>\n",
       "<style scoped>\n",
       "    .dataframe tbody tr th:only-of-type {\n",
       "        vertical-align: middle;\n",
       "    }\n",
       "\n",
       "    .dataframe tbody tr th {\n",
       "        vertical-align: top;\n",
       "    }\n",
       "\n",
       "    .dataframe thead th {\n",
       "        text-align: right;\n",
       "    }\n",
       "</style>\n",
       "<table border=\"1\" class=\"dataframe\">\n",
       "  <thead>\n",
       "    <tr style=\"text-align: right;\">\n",
       "      <th></th>\n",
       "      <th>text</th>\n",
       "      <th>label</th>\n",
       "    </tr>\n",
       "  </thead>\n",
       "  <tbody>\n",
       "    <tr>\n",
       "      <th>0</th>\n",
       "      <td>Distintas desinformaciones señalan falsamente ...</td>\n",
       "      <td>False</td>\n",
       "    </tr>\n",
       "    <tr>\n",
       "      <th>1</th>\n",
       "      <td>El metraje realmente corresponde a embarcacion...</td>\n",
       "      <td>False</td>\n",
       "    </tr>\n",
       "    <tr>\n",
       "      <th>2</th>\n",
       "      <td>Una cuenta desinformadora de derecha adelanta ...</td>\n",
       "      <td>False</td>\n",
       "    </tr>\n",
       "    <tr>\n",
       "      <th>3</th>\n",
       "      <td>Se trata de una suplantación que no ha sido pu...</td>\n",
       "      <td>False</td>\n",
       "    </tr>\n",
       "    <tr>\n",
       "      <th>4</th>\n",
       "      <td>Un video viral atribuye a Hugo “El Pollo” Carv...</td>\n",
       "      <td>False</td>\n",
       "    </tr>\n",
       "  </tbody>\n",
       "</table>\n",
       "</div>"
      ],
      "text/plain": [
       "                                                text  label\n",
       "0  Distintas desinformaciones señalan falsamente ...  False\n",
       "1  El metraje realmente corresponde a embarcacion...  False\n",
       "2  Una cuenta desinformadora de derecha adelanta ...  False\n",
       "3  Se trata de una suplantación que no ha sido pu...  False\n",
       "4  Un video viral atribuye a Hugo “El Pollo” Carv...  False"
      ]
     },
     "execution_count": 6,
     "metadata": {},
     "output_type": "execute_result"
    }
   ],
   "source": [
    "noticias_fuente1 = pd.read_csv( '../data_scrapeada/noticias.csv', usecols=['descripcion', 'veracidad'])\n",
    "noticias_fuente1.columns = ['text', 'label']\n",
    "noticias_fuente1['label'] = noticias_fuente1['label'].astype(bool)\n",
    "noticias_fuente1.head()"
   ]
  },
  {
   "cell_type": "code",
   "execution_count": 8,
   "id": "6643ffe6",
   "metadata": {},
   "outputs": [
    {
     "data": {
      "text/html": [
       "<div>\n",
       "<style scoped>\n",
       "    .dataframe tbody tr th:only-of-type {\n",
       "        vertical-align: middle;\n",
       "    }\n",
       "\n",
       "    .dataframe tbody tr th {\n",
       "        vertical-align: top;\n",
       "    }\n",
       "\n",
       "    .dataframe thead th {\n",
       "        text-align: right;\n",
       "    }\n",
       "</style>\n",
       "<table border=\"1\" class=\"dataframe\">\n",
       "  <thead>\n",
       "    <tr style=\"text-align: right;\">\n",
       "      <th></th>\n",
       "      <th>text</th>\n",
       "      <th>label</th>\n",
       "    </tr>\n",
       "  </thead>\n",
       "  <tbody>\n",
       "    <tr>\n",
       "      <th>0</th>\n",
       "      <td>Algunas de las voces extremistas más conocida...</td>\n",
       "      <td>True</td>\n",
       "    </tr>\n",
       "    <tr>\n",
       "      <th>1</th>\n",
       "      <td>Después de casi dos años y medio de luchas po...</td>\n",
       "      <td>True</td>\n",
       "    </tr>\n",
       "    <tr>\n",
       "      <th>2</th>\n",
       "      <td>Dos periodistas birmanos de la agencia Reuter...</td>\n",
       "      <td>True</td>\n",
       "    </tr>\n",
       "    <tr>\n",
       "      <th>3</th>\n",
       "      <td>El Cuerpo Nacional de Policía ha detenido a c...</td>\n",
       "      <td>True</td>\n",
       "    </tr>\n",
       "    <tr>\n",
       "      <th>4</th>\n",
       "      <td>El desfile de la firma en Roma se convierte e...</td>\n",
       "      <td>True</td>\n",
       "    </tr>\n",
       "  </tbody>\n",
       "</table>\n",
       "</div>"
      ],
      "text/plain": [
       "                                                text  label\n",
       "0   Algunas de las voces extremistas más conocida...   True\n",
       "1   Después de casi dos años y medio de luchas po...   True\n",
       "2   Dos periodistas birmanos de la agencia Reuter...   True\n",
       "3   El Cuerpo Nacional de Policía ha detenido a c...   True\n",
       "4   El desfile de la firma en Roma se convierte e...   True"
      ]
     },
     "execution_count": 8,
     "metadata": {},
     "output_type": "execute_result"
    }
   ],
   "source": [
    "noticias_fuente2 = pd.read_csv(BASE_DIR / './data/merge_data/full_dataset.csv')\n",
    "noticias_fuente2.head()"
   ]
  },
  {
   "cell_type": "code",
   "execution_count": 9,
   "id": "43fa54fd",
   "metadata": {},
   "outputs": [],
   "source": [
    "noticias_combinadas = pd.concat([noticias_fuente1, noticias_fuente2], ignore_index=True)\n",
    "noticias_combinadas['text'] = noticias_combinadas['text'].astype(str)\n",
    "noticias_combinadas['label'] = noticias_combinadas['label'].astype(bool)"
   ]
  },
  {
   "cell_type": "code",
   "execution_count": 10,
   "id": "124c78c2",
   "metadata": {},
   "outputs": [
    {
     "name": "stdout",
     "output_type": "stream",
     "text": [
      "(5443, 2)\n"
     ]
    },
    {
     "data": {
      "text/html": [
       "<div>\n",
       "<style scoped>\n",
       "    .dataframe tbody tr th:only-of-type {\n",
       "        vertical-align: middle;\n",
       "    }\n",
       "\n",
       "    .dataframe tbody tr th {\n",
       "        vertical-align: top;\n",
       "    }\n",
       "\n",
       "    .dataframe thead th {\n",
       "        text-align: right;\n",
       "    }\n",
       "</style>\n",
       "<table border=\"1\" class=\"dataframe\">\n",
       "  <thead>\n",
       "    <tr style=\"text-align: right;\">\n",
       "      <th></th>\n",
       "      <th>text</th>\n",
       "      <th>label</th>\n",
       "    </tr>\n",
       "  </thead>\n",
       "  <tbody>\n",
       "    <tr>\n",
       "      <th>0</th>\n",
       "      <td>distintas desinformaciones senalan falsamente ...</td>\n",
       "      <td>False</td>\n",
       "    </tr>\n",
       "    <tr>\n",
       "      <th>1</th>\n",
       "      <td>el metraje realmente corresponde a embarcacion...</td>\n",
       "      <td>False</td>\n",
       "    </tr>\n",
       "    <tr>\n",
       "      <th>2</th>\n",
       "      <td>una cuenta desinformadora de derecha adelanta ...</td>\n",
       "      <td>False</td>\n",
       "    </tr>\n",
       "    <tr>\n",
       "      <th>3</th>\n",
       "      <td>se trata de una suplantacion que no ha sido pu...</td>\n",
       "      <td>False</td>\n",
       "    </tr>\n",
       "    <tr>\n",
       "      <th>4</th>\n",
       "      <td>un video viral atribuye a hugo “el pollo” carv...</td>\n",
       "      <td>False</td>\n",
       "    </tr>\n",
       "  </tbody>\n",
       "</table>\n",
       "</div>"
      ],
      "text/plain": [
       "                                                text  label\n",
       "0  distintas desinformaciones senalan falsamente ...  False\n",
       "1  el metraje realmente corresponde a embarcacion...  False\n",
       "2  una cuenta desinformadora de derecha adelanta ...  False\n",
       "3  se trata de una suplantacion que no ha sido pu...  False\n",
       "4  un video viral atribuye a hugo “el pollo” carv...  False"
      ]
     },
     "execution_count": 10,
     "metadata": {},
     "output_type": "execute_result"
    }
   ],
   "source": [
    "noticias_combinadas['text'] = noticias_combinadas['text'].apply(preprocesar_texto)\n",
    "print(noticias_combinadas.shape)\n",
    "noticias_combinadas.head()"
   ]
  },
  {
   "cell_type": "code",
   "execution_count": 12,
   "id": "03c14e5a",
   "metadata": {},
   "outputs": [
    {
     "name": "stdout",
     "output_type": "stream",
     "text": [
      "label\n",
      "True     2764\n",
      "False    2679\n",
      "Name: count, dtype: int64\n"
     ]
    },
    {
     "data": {
      "image/png": "[encoded data removed]",
      "text/plain": [
       "<Figure size 640x480 with 1 Axes>"
      ]
     },
     "metadata": {},
     "output_type": "display_data"
    }
   ],
   "source": [
    "print(noticias_combinadas['label'].value_counts())\n",
    "noticias_combinadas['label'].value_counts().plot(kind='bar', title='Distribución de las clases');"
   ]
  },
  {
   "cell_type": "markdown",
   "id": "8e9ff24c",
   "metadata": {},
   "source": [
    "• Mean: La media es el promedio de palabras totales en cada archivo que\n",
    "compone una fuente\n",
    "\n",
    "• Std: La Desviación Estándar mide la dispersión de las longitudes respecto\n",
    "a la media de palabras en cada archivo de la fuente\n",
    "\n",
    "• Min: cantidad mínima de palabras entre las diferentes fuentes\n",
    "\n",
    "• Max: cantidad mínima de palabras entre las diferentes fuentes\n",
    "\n",
    "• Quartiles: Cuartiles (25%, 50% y 75%) de la cantidad de palabras entre\n",
    "las diferentes fuentes\n",
    "\n",
    "• Sum: Total de palabras de las diferentes fuentes"
   ]
  },
  {
   "cell_type": "code",
   "execution_count": 8,
   "id": "667b4d9a",
   "metadata": {},
   "outputs": [
    {
     "name": "stdout",
     "output_type": "stream",
     "text": [
      "Mean: 160.8789511494253\n",
      "Std Dev: 273.8201059208692\n",
      "Min: 1\n",
      "Max: 4647\n",
      "Sum: 895774\n",
      "Quartiles:\n",
      "0.25     40.0\n",
      "0.50     43.0\n",
      "0.75    218.0\n",
      "Name: text, dtype: float64\n"
     ]
    }
   ],
   "source": [
    "# meadia de palabras totales\n",
    "print(\"Mean:\", noticias_combinadas['text'].str.split().apply(len).mean())\n",
    "\n",
    "# desviacion estandar de la longitud de palabras\n",
    "print(\"Std Dev:\", noticias_combinadas['text'].str.split().apply(len).std())\n",
    "\n",
    "# cantidad minima de palabras\n",
    "print(\"Min:\", noticias_combinadas['text'].str.split().apply(len).min())\n",
    "\n",
    "# cantidad maxima de palabras\n",
    "print(\"Max:\", noticias_combinadas['text'].str.split().apply(len).max())\n",
    "\n",
    "# total de palabras\n",
    "print(\"Sum:\", noticias_combinadas['text'].str.split().apply(len).sum())\n",
    "\n",
    "# cuartiles\n",
    "print(\"Quartiles:\")\n",
    "print(noticias_combinadas['text'].str.split().apply(len).quantile([0.25, 0.5, 0.75]))"
   ]
  },
  {
   "cell_type": "code",
   "execution_count": null,
   "id": "547b1577",
   "metadata": {},
   "outputs": [],
   "source": [
    "noticias_combinadas.to_csv(BASE_DIR / 'src/data/clean_data/noticias_combinadas.csv', index=False)"
   ]
  }
 ],
 "metadata": {
  "kernelspec": {
   "display_name": "Python 3",
   "language": "python",
   "name": "python3"
  },
  "language_info": {
   "codemirror_mode": {
    "name": "ipython",
    "version": 3
   },
   "file_extension": ".py",
   "mimetype": "text/x-python",
   "name": "python",
   "nbconvert_exporter": "python",
   "pygments_lexer": "ipython3",
   "version": "3.12.3"
  }
 },
 "nbformat": 4,
 "nbformat_minor": 5
}
